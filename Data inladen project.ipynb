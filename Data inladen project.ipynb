{
 "cells": [
  {
   "cell_type": "code",
   "execution_count": 129,
   "metadata": {},
   "outputs": [],
   "source": [
    "%matplotlib inline\n",
    "import pandas as pd\n",
    "import numpy as np\n",
    "import matplotlib.pyplot as plt\n",
    "import missingno as msno\n"
   ]
  },
  {
   "cell_type": "code",
   "execution_count": 50,
   "metadata": {},
   "outputs": [],
   "source": [
    "world_bank = pd.read_csv(\"data/SDG_csv/SDGData.csv\", sep=\",\")"
   ]
  },
  {
   "cell_type": "code",
   "execution_count": 40,
   "metadata": {},
   "outputs": [],
   "source": [
    "life_expectancy = pd.read_csv(\"data/life-expectancy.csv\")"
   ]
  },
  {
   "cell_type": "code",
   "execution_count": 45,
   "metadata": {},
   "outputs": [],
   "source": [
    "household_ppp = pd.read_excel(\"data/NHA-indicators.xlsx\")"
   ]
  },
  {
   "cell_type": "code",
   "execution_count": 100,
   "metadata": {},
   "outputs": [
    {
     "name": "stdout",
     "output_type": "stream",
     "text": [
      "['GDP (constant 2010 US$)' 'GDP (constant LCU)' 'GDP (current LCU)'\n",
      " 'GDP (current US$)' 'GDP growth (annual %)'\n",
      " 'GDP per capita (constant 2010 US$)' 'GDP per capita (constant LCU)'\n",
      " 'GDP per capita (current LCU)' 'GDP per capita (current US$)'\n",
      " 'GDP per capita growth (annual %)'\n",
      " 'GDP per capita, PPP (constant 2011 international $)'\n",
      " 'GDP per capita, PPP (current international $)'\n",
      " 'GDP per person employed (constant 2011 PPP $)'\n",
      " 'PPP conversion factor, GDP (LCU per international $)'\n",
      " 'Water productivity, total (constant 2010 US$ GDP per cubic meter of total freshwater withdrawal)']\n"
     ]
    }
   ],
   "source": [
    "#Zoek machine voor onderwerpen uit de indicator naam. Niet hoofdletter gevoelig. \n",
    "#Vergeet niet country_names te laden.\n",
    "\n",
    "variabelen = []\n",
    "for sentence in list(world_bank[\"Indicator Name\"].values):\n",
    "    sentence1 = np.array(sentence.split(\" \"))\n",
    "    for words in (sentence1):\n",
    "        if words.lower() == \"GDP\".lower(): #Vul hier zoekterm in.\n",
    "            variabelen += [sentence]\n",
    "\n",
    "variabelen = pd.unique(variabelen)\n",
    "print(variabelen)                       \n",
    "                                \n"
   ]
  },
  {
   "cell_type": "code",
   "execution_count": 204,
   "metadata": {},
   "outputs": [
    {
     "data": {
      "text/plain": [
       "array(['Afghanistan', 'Australia', 'Austria', 'Brunei Darussalam',\n",
       "       'Burkina Faso', 'Burundi', 'Canada', 'Central African Republic',\n",
       "       'Chad', 'Comoros', 'Congo, Dem. Rep.', 'Denmark', 'Ethiopia',\n",
       "       'Gambia, The', 'Germany', 'Guinea-Bissau', 'Haiti', 'Iceland',\n",
       "       'Ireland', 'Kuwait', 'Liberia', 'Luxembourg', 'Madagascar',\n",
       "       'Malawi', 'Mozambique', 'Netherlands', 'Niger', 'Norway', 'Qatar',\n",
       "       'Rwanda', 'San Marino', 'Saudi Arabia', 'Sierra Leone',\n",
       "       'Singapore', 'Sweden', 'Switzerland', 'Togo', 'Uganda',\n",
       "       'United Arab Emirates', 'United States'], dtype=object)"
      ]
     },
     "execution_count": 204,
     "metadata": {},
     "output_type": "execute_result"
    }
   ],
   "source": [
    "#msno.matrix(world_bank.sample(len(world_bank)))\n",
    "\n",
    "def find_top20():\n",
    "    countries = world_bank[world_bank[\"Indicator Name\"]== 'GDP per capita, PPP (constant 2011 international $)'][\"Country Name\"]\n",
    "    #GDP_2016 = world_bank[world_bank[\"Indicator Name\"]== 'GDP per capita, PPP (constant 2011 international $)'][\"2016\"]\n",
    "    GDP_2017 = world_bank[world_bank[\"Indicator Name\"]== 'GDP per capita, PPP (constant 2011 international $)'][\"2017\"]\n",
    "\n",
    "    GDP = countries.to_frame().join(GDP_2017.to_frame()).join(GDP_2016.to_frame())\n",
    "    #Mask the area's which come up at the highest and lowest countries and are undesired\n",
    "    GDP = GDP.mask(GDP[\"Country Name\"]==\"Macao SAR, China\")\n",
    "    GDP = GDP.mask(GDP[\"Country Name\"]==\"Hong Kong SAR, China\")\n",
    "    GDP = GDP.mask(GDP[\"Country Name\"]==\"North America\")\n",
    "\n",
    "    lowest_20 = GDP.sort_values(\"2017\")[0:20]\n",
    "    highest_20 = GDP.sort_values(\"2017\", ascending=False,)[0:20]\n",
    "\n",
    "    lowest_countries = lowest_20[\"Country Name\"]\n",
    "    highest_countries = highest_20[\"Country Name\"]\n",
    "    \n",
    "    countries = pd.concat([lowest_countries, highest_countries])\n",
    "    \n",
    "    if len(lowest_countries) < 19:\n",
    "        return False\n",
    "    else:\n",
    "        return countries.sort_values().values\n",
    "find_top20()\n"
   ]
  },
  {
   "cell_type": "code",
   "execution_count": null,
   "metadata": {},
   "outputs": [],
   "source": []
  },
  {
   "cell_type": "code",
   "execution_count": null,
   "metadata": {},
   "outputs": [],
   "source": []
  }
 ],
 "metadata": {
  "kernelspec": {
   "display_name": "Python 3",
   "language": "python",
   "name": "python3"
  },
  "language_info": {
   "codemirror_mode": {
    "name": "ipython",
    "version": 3
   },
   "file_extension": ".py",
   "mimetype": "text/x-python",
   "name": "python",
   "nbconvert_exporter": "python",
   "pygments_lexer": "ipython3",
   "version": "3.6.5"
  }
 },
 "nbformat": 4,
 "nbformat_minor": 2
}
