{
 "cells": [
  {
   "cell_type": "code",
   "execution_count": 3,
   "metadata": {},
   "outputs": [],
   "source": [
    "%matplotlib inline\n",
    "import pandas as pd\n",
    "import numpy as np\n",
    "import matplotlib.pyplot as plt\n",
    "\n",
    "\n",
    "country_names = pd.read_csv(\"https://raw.githubusercontent.com/Jochem285/EPA1333FA/master/SDG_csv/SDGData.csv\", sep=\",\")\n",
    "\n"
   ]
  },
  {
   "cell_type": "code",
   "execution_count": 18,
   "metadata": {},
   "outputs": [
    {
     "name": "stdout",
     "output_type": "stream",
     "text": [
      "['Investment in water and sanitation with private participation (current US$)'\n",
      " 'Level of water stress: freshwater withdrawal as a proportion of available freshwater resources'\n",
      " 'People using at least basic drinking water services (% of population)'\n",
      " 'People using at least basic drinking water services, rural (% of rural population)'\n",
      " 'People using at least basic drinking water services, urban (% of urban population)'\n",
      " 'People using safely managed drinking water services (% of population)'\n",
      " 'People using safely managed drinking water services, rural (% of rural population)'\n",
      " 'People using safely managed drinking water services, urban (% of urban population)'\n",
      " 'People with basic handwashing facilities including soap and water (% of population)'\n",
      " 'Water productivity, total (constant 2010 US$ GDP per cubic meter of total freshwater withdrawal)']\n"
     ]
    }
   ],
   "source": [
    "#Zoek machine voor onderwerpen uit de indicator naam. Niet hoofdletter gevoelig. \n",
    "#Vergeet niet country_names te laden.\n",
    "\n",
    "variabelen = []\n",
    "for sentence in list(country_names[\"Indicator Name\"].values):\n",
    "    sentence1 = np.array(sentence.split(\" \"))\n",
    "    for words in (sentence1):\n",
    "        if words.lower() == \"water\".lower(): #Vul hier zoekterm in.\n",
    "            variabelen += [sentence]\n",
    "\n",
    "variabelen = pd.unique(variabelen)\n",
    "print(variabelen)                       \n",
    "                                \n"
   ]
  },
  {
   "cell_type": "code",
   "execution_count": null,
   "metadata": {},
   "outputs": [],
   "source": []
  }
 ],
 "metadata": {
  "kernelspec": {
   "display_name": "Python 3",
   "language": "python",
   "name": "python3"
  }
 },
 "nbformat": 4,
 "nbformat_minor": 2
}
