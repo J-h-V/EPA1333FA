{
 "cells": [
  {
   "cell_type": "code",
   "execution_count": 17,
   "metadata": {},
   "outputs": [],
   "source": [
    "%matplotlib inline\n",
    "import pandas as pd\n",
    "import numpy as np\n",
    "import matplotlib.pyplot as plt\n"
   ]
  },
  {
   "cell_type": "code",
   "execution_count": 50,
   "metadata": {},
   "outputs": [],
   "source": [
    "world_bank = pd.read_csv(\"data/SDG_csv/SDGData.csv\", sep=\",\")"
   ]
  },
  {
   "cell_type": "code",
   "execution_count": 40,
   "metadata": {},
   "outputs": [],
   "source": [
    "life_expectancy = pd.read_csv(\"data/life-expectancy.csv\")"
   ]
  },
  {
   "cell_type": "code",
   "execution_count": 45,
   "metadata": {},
   "outputs": [],
   "source": [
    "household_ppp = pd.read_excel(\"data/NHA-indicators.xlsx\")"
   ]
  },
  {
   "cell_type": "code",
   "execution_count": 51,
   "metadata": {},
   "outputs": [
    {
     "name": "stdout",
     "output_type": "stream",
     "text": [
      "['GDP (constant 2010 US$)' 'GDP (constant LCU)' 'GDP (current LCU)'\n",
      " 'GDP (current US$)' 'GDP growth (annual %)'\n",
      " 'GDP per capita (constant 2010 US$)' 'GDP per capita (constant LCU)'\n",
      " 'GDP per capita (current LCU)' 'GDP per capita (current US$)'\n",
      " 'GDP per capita growth (annual %)'\n",
      " 'GDP per capita, PPP (constant 2011 international $)'\n",
      " 'GDP per capita, PPP (current international $)'\n",
      " 'GDP per person employed (constant 2011 PPP $)'\n",
      " 'PPP conversion factor, GDP (LCU per international $)'\n",
      " 'Water productivity, total (constant 2010 US$ GDP per cubic meter of total freshwater withdrawal)']\n"
     ]
    }
   ],
   "source": [
    "#Zoek machine voor onderwerpen uit de indicator naam. Niet hoofdletter gevoelig. \n",
    "#Vergeet niet country_names te laden.\n",
    "\n",
    "variabelen = []\n",
    "for sentence in list(world_bank[\"Indicator Name\"].values):\n",
    "    sentence1 = np.array(sentence.split(\" \"))\n",
    "    for words in (sentence1):\n",
    "        if words.lower() == \"GDP\".lower(): #Vul hier zoekterm in.\n",
    "            variabelen += [sentence]\n",
    "\n",
    "variabelen = pd.unique(variabelen)\n",
    "print(variabelen)                       \n",
    "                                \n"
   ]
  },
  {
   "cell_type": "code",
   "execution_count": 82,
   "metadata": {},
   "outputs": [
    {
     "data": {
      "text/html": [
       "<div>\n",
       "<style scoped>\n",
       "    .dataframe tbody tr th:only-of-type {\n",
       "        vertical-align: middle;\n",
       "    }\n",
       "\n",
       "    .dataframe tbody tr th {\n",
       "        vertical-align: top;\n",
       "    }\n",
       "\n",
       "    .dataframe thead th {\n",
       "        text-align: right;\n",
       "    }\n",
       "</style>\n",
       "<table border=\"1\" class=\"dataframe\">\n",
       "  <thead>\n",
       "    <tr style=\"text-align: right;\">\n",
       "      <th></th>\n",
       "      <th>Country Name</th>\n",
       "      <th>2017</th>\n",
       "    </tr>\n",
       "  </thead>\n",
       "  <tbody>\n",
       "    <tr>\n",
       "      <th>16509</th>\n",
       "      <td>World</td>\n",
       "      <td>8.068379e+13</td>\n",
       "    </tr>\n",
       "  </tbody>\n",
       "</table>\n",
       "</div>"
      ],
      "text/plain": [
       "      Country Name          2017\n",
       "16509        World  8.068379e+13"
      ]
     },
     "execution_count": 82,
     "metadata": {},
     "output_type": "execute_result"
    }
   ],
   "source": [
    "countries = world_bank[world_bank[\"Indicator Name\"]== \"GDP (current US$)\"][\"Country Name\"]\n",
    "GDP_2017 = world_bank[world_bank[\"Indicator Name\"]== \"GDP (current US$)\"][\"2017\"]\n",
    "\n",
    "GDP = countries.to_frame().join(GDP_2017.to_frame())\n",
    "GDP[GDP[\"2017\"] == max(GDP[\"2017\"])]\n"
   ]
  },
  {
   "cell_type": "code",
   "execution_count": null,
   "metadata": {},
   "outputs": [],
   "source": []
  },
  {
   "cell_type": "code",
   "execution_count": null,
   "metadata": {},
   "outputs": [],
   "source": []
  }
 ],
 "metadata": {
  "kernelspec": {
   "display_name": "Python 3",
   "language": "python",
   "name": "python3"
  },
  "language_info": {
   "codemirror_mode": {
    "name": "ipython",
    "version": 3
   },
   "file_extension": ".py",
   "mimetype": "text/x-python",
   "name": "python",
   "nbconvert_exporter": "python",
   "pygments_lexer": "ipython3",
   "version": "3.6.5"
  }
 },
 "nbformat": 4,
 "nbformat_minor": 2
}
