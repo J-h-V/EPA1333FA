{
 "cells": [
  {
   "cell_type": "code",
   "execution_count": null,
   "metadata": {},
   "outputs": [],
   "source": [
    "%matplotlib inline\n",
    "import pandas as pd\n",
    "import numpy as np\n",
    "import matplotlib.pyplot as plt\n",
    "import missingno as msno\n",
    "\n"
   ]
  },
  {
   "cell_type": "code",
   "execution_count": 3,
   "metadata": {},
   "outputs": [],
   "source": [
    "world_bank = pd.read_csv(\"data/SDG_csv/SDGData.csv\", sep=\",\")"
   ]
  },
  {
   "cell_type": "code",
   "execution_count": 4,
   "metadata": {},
   "outputs": [],
   "source": [
    "life_expectancy = pd.read_csv(\"data/life-expectancy.csv\")"
   ]
  },
  {
   "cell_type": "code",
   "execution_count": 5,
   "metadata": {},
   "outputs": [],
   "source": [
    "household_ppp = pd.read_excel(\"data/NHA-indicators.xlsx\")"
   ]
  },
  {
   "cell_type": "code",
   "execution_count": 6,
   "metadata": {},
   "outputs": [
    {
     "name": "stdout",
     "output_type": "stream",
     "text": [
      "['Women making their own informed decisions regarding sexual relations, contraceptive use and reproductive health care  (% of women age 15-49)']\n"
     ]
    }
   ],
   "source": [
    "#Zoek machine voor onderwerpen uit de indicator naam. Niet hoofdletter gevoelig. \n",
    "#Vergeet niet country_names te laden.\n",
    "\n",
    "variabelen = []\n",
    "for sentence in list(world_bank[\"Indicator Name\"].values):\n",
    "    sentence1 = np.array(sentence.split(\" \"))\n",
    "    for words in (sentence1):\n",
    "        if words.lower() == \"\".lower(): #Vul hier zoekterm in.\n",
    "            variabelen += [sentence]\n",
    "\n",
    "variabelen = pd.unique(variabelen)\n",
    "print(variabelen)                       \n",
    "                                \n"
   ]
  },
  {
   "cell_type": "code",
   "execution_count": 18,
   "metadata": {},
   "outputs": [],
   "source": [
    "#msno.matrix(world_bank.sample(len(world_bank)))\n",
    "\n",
    "def find_top20():\n",
    "    countries = world_bank[world_bank[\"Indicator Name\"]== 'GDP per capita, PPP (constant 2011 international $)'][\"Country Name\"]\n",
    "    GDP_2016 = world_bank[world_bank[\"Indicator Name\"]== 'GDP per capita, PPP (constant 2011 international $)'][\"2016\"]\n",
    "    GDP_2017 = world_bank[world_bank[\"Indicator Name\"]== 'GDP per capita, PPP (constant 2011 international $)'][\"2017\"]\n",
    "\n",
    "    GDP = countries.to_frame().join(GDP_2017.to_frame()).join(GDP_2016.to_frame())\n",
    "    #Mask the area's which come up at the highest and lowest countries and are undesired\n",
    "    GDP = GDP.mask(GDP[\"Country Name\"]==\"Macao SAR, China\")\n",
    "    GDP = GDP.mask(GDP[\"Country Name\"]==\"Hong Kong SAR, China\")\n",
    "    GDP = GDP.mask(GDP[\"Country Name\"]==\"North America\")\n",
    "\n",
    "    lowest_20 = GDP.sort_values(\"2017\")[0:20]\n",
    "    highest_20 = GDP.sort_values(\"2017\", ascending=False)[0:20]\n",
    "\n",
    "    lowest_countries = lowest_20[\"Country Name\"]\n",
    "    highest_countries = highest_20[\"Country Name\"]\n",
    "    \n",
    "    countries = pd.concat([lowest_countries, highest_countries])\n",
    "    \n",
    "    if len(lowest_countries) < 19:\n",
    "        return False\n",
    "    else:\n",
    "        return list(countries.sort_values().values)\n",
    "\n"
   ]
  },
  {
   "cell_type": "code",
   "execution_count": 71,
   "metadata": {},
   "outputs": [
    {
     "data": {
      "text/html": [
       "<div>\n",
       "<style scoped>\n",
       "    .dataframe tbody tr th:only-of-type {\n",
       "        vertical-align: middle;\n",
       "    }\n",
       "\n",
       "    .dataframe tbody tr th {\n",
       "        vertical-align: top;\n",
       "    }\n",
       "\n",
       "    .dataframe thead th {\n",
       "        text-align: right;\n",
       "    }\n",
       "</style>\n",
       "<table border=\"1\" class=\"dataframe\">\n",
       "  <thead>\n",
       "    <tr style=\"text-align: right;\">\n",
       "      <th></th>\n",
       "      <th>Countries</th>\n",
       "      <th>Indicators</th>\n",
       "      <th>Unnamed: 2</th>\n",
       "      <th>2000</th>\n",
       "      <th>2001</th>\n",
       "      <th>2002</th>\n",
       "      <th>2003</th>\n",
       "      <th>2004</th>\n",
       "      <th>2005</th>\n",
       "      <th>2006</th>\n",
       "      <th>2007</th>\n",
       "      <th>2008</th>\n",
       "      <th>2009</th>\n",
       "      <th>2010</th>\n",
       "      <th>2011</th>\n",
       "      <th>2012</th>\n",
       "      <th>2013</th>\n",
       "      <th>2014</th>\n",
       "      <th>2015</th>\n",
       "    </tr>\n",
       "  </thead>\n",
       "  <tbody>\n",
       "    <tr>\n",
       "      <th>82</th>\n",
       "      <td>Afghanistan</td>\n",
       "      <td>Household out-of-pocket payment</td>\n",
       "      <td>in current US$ per capita</td>\n",
       "      <td>NaN</td>\n",
       "      <td>NaN</td>\n",
       "      <td>13.8731</td>\n",
       "      <td>15.0541</td>\n",
       "      <td>17.6892</td>\n",
       "      <td>19.3054</td>\n",
       "      <td>21.8311</td>\n",
       "      <td>24.8895</td>\n",
       "      <td>29.1815</td>\n",
       "      <td>30.7889</td>\n",
       "      <td>36.0128</td>\n",
       "      <td>37.7654</td>\n",
       "      <td>38.8956</td>\n",
       "      <td>40.3234</td>\n",
       "      <td>43.9159</td>\n",
       "      <td>47.099</td>\n",
       "    </tr>\n",
       "  </tbody>\n",
       "</table>\n",
       "</div>"
      ],
      "text/plain": [
       "      Countries                       Indicators                 Unnamed: 2  \\\n",
       "82  Afghanistan  Household out-of-pocket payment  in current US$ per capita   \n",
       "\n",
       "   2000 2001     2002     2003     2004     2005     2006     2007     2008  \\\n",
       "82  NaN  NaN  13.8731  15.0541  17.6892  19.3054  21.8311  24.8895  29.1815   \n",
       "\n",
       "       2009     2010     2011     2012     2013     2014    2015  \n",
       "82  30.7889  36.0128  37.7654  38.8956  40.3234  43.9159  47.099  "
      ]
     },
     "execution_count": 71,
     "metadata": {},
     "output_type": "execute_result"
    }
   ],
   "source": [
    "household_top20 = household_ppp\n",
    "hh = pd.DataFrame()\n",
    " \n",
    "    \n",
    "df =household_top20[household_top20[\"Countries\"]==find_top20()[0]]\n",
    "#for country in find_top20():\n",
    "    #df =household_top20[household_top20[\"Countries\"]==country]\n",
    "    \n",
    "    #hh.append(household_top20[household_top20[\"Countries\"]==country])\n",
    "df[:1]"
   ]
  },
  {
   "cell_type": "code",
   "execution_count": null,
   "metadata": {},
   "outputs": [],
   "source": []
  },
  {
   "cell_type": "code",
   "execution_count": null,
   "metadata": {},
   "outputs": [],
   "source": []
  }
 ],
 "metadata": {
  "kernelspec": {
   "display_name": "Python 3",
   "language": "python",
   "name": "python3"
  }
 },
 "nbformat": 4,
 "nbformat_minor": 2
}
